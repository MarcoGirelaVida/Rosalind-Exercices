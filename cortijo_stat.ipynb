{
 "cells": [
  {
   "attachments": {},
   "cell_type": "markdown",
   "metadata": {},
   "source": [
    "CÁLCULOS ESTADÍSTICOS SOBRE LAS MAGNÍFICAS NOTAS DE CORTIJO"
   ]
  },
  {
   "attachments": {},
   "cell_type": "markdown",
   "metadata": {},
   "source": [
    "Importo los datos"
   ]
  },
  {
   "cell_type": "code",
   "execution_count": 30,
   "metadata": {},
   "outputs": [],
   "source": [
    "import pandas as pd\n",
    "from scipy.stats import pearsonr\n",
    "\n",
    "def f(cadena, precision=2) -> str:\n",
    "    return f\"{cadena:.{precision}f}\"\n",
    "\n",
    "\n",
    "\n",
    "notas = pd.read_csv('notas.csv')\n",
    "entregas_total = notas['CE']\n",
    "entregas_evaluacion_continua = notas.loc[entregas_total != 0, 'CE']\n",
    "examen = notas['EP1']\n",
    "proyecto = notas['PROYECTO']"
   ]
  },
  {
   "attachments": {},
   "cell_type": "markdown",
   "metadata": {},
   "source": [
    "1. Cálculo la desviación estandar y media de cada una de las notas"
   ]
  },
  {
   "cell_type": "code",
   "execution_count": 24,
   "metadata": {},
   "outputs": [
    {
     "name": "stdout",
     "output_type": "stream",
     "text": [
      "Std entregas total:  3.89  Media:  3.82\n",
      "   Std entregas EC:  2.18  Media:  7.07\n",
      "        Std examen:  2.73  Media:  4.37\n",
      "      Std proyecto:  2.80  Media:  4.46\n"
     ]
    }
   ],
   "source": [
    "std_entregas = entregas_total.std()\n",
    "std_examen = examen.std()\n",
    "std_proyecto = proyecto.std()\n",
    "std_entregas_evaluacion_continua = entregas_evaluacion_continua.std()\n",
    "\n",
    "mean_entregas = entregas_total.mean()\n",
    "mean_examen = examen.mean()\n",
    "mean_proyecto = proyecto.mean()\n",
    "mean_entregas_evaluacion_continua = entregas_evaluacion_continua.mean()\n",
    "\n",
    "print(f\"{'Std entregas total: ':>20}\", f(std_entregas), \" Media: \", f(mean_entregas))\n",
    "print(f\"{'Std entregas EC: ':>20}\", f(std_entregas_evaluacion_continua) , \" Media: \", f(mean_entregas_evaluacion_continua))\n",
    "print(f\"{'Std examen: ':>20}\", f(std_examen), \" Media: \", f(mean_examen))\n",
    "print(f\"{'Std proyecto: ':>20}\", f(std_proyecto), \" Media: \", f(mean_proyecto))"
   ]
  },
  {
   "attachments": {},
   "cell_type": "markdown",
   "metadata": {},
   "source": [
    "2. Veo qué correlación hay entre entregar las cosas y la nota en el proyecto y el examen"
   ]
  },
  {
   "cell_type": "code",
   "execution_count": 38,
   "metadata": {},
   "outputs": [
    {
     "name": "stdout",
     "output_type": "stream",
     "text": [
      "      Correlacion entregas total y proyecto:  0.37\n",
      "         Correlacion entregas EC y proyecto:  0.36\n",
      "        Correlacion entregas total y examen:  0.15\n",
      "           Correlacion entregas EC y examen:  0.10\n"
     ]
    }
   ],
   "source": [
    "correlacion_entregastotal_proyecto = entregas_total.corr(proyecto) ** 2\n",
    "correlacion_entregasEC_proyecto = entregas_evaluacion_continua.corr(proyecto) ** 2\n",
    "correlacion_entregastotal_examen = entregas_total.corr(examen) ** 2\n",
    "correlacion_entregasEC_examen = entregas_evaluacion_continua.corr(examen) ** 2\n",
    "\n",
    "print(f\"{'Correlacion entregas total y proyecto: ':>45}\", f(correlacion_entregastotal_proyecto))\n",
    "print(f\"{'Correlacion entregas EC y proyecto: ':>45}\", f(correlacion_entregasEC_proyecto))\n",
    "print(f\"{'Correlacion entregas total y examen: ':>45}\", f(correlacion_entregastotal_examen))\n",
    "print(f\"{'Correlacion entregas EC y examen: ':>45}\", f(correlacion_entregasEC_examen))"
   ]
  }
 ],
 "metadata": {
  "kernelspec": {
   "display_name": "base",
   "language": "python",
   "name": "python3"
  },
  "language_info": {
   "codemirror_mode": {
    "name": "ipython",
    "version": 3
   },
   "file_extension": ".py",
   "mimetype": "text/x-python",
   "name": "python",
   "nbconvert_exporter": "python",
   "pygments_lexer": "ipython3",
   "version": "3.10.9"
  },
  "orig_nbformat": 4
 },
 "nbformat": 4,
 "nbformat_minor": 2
}
